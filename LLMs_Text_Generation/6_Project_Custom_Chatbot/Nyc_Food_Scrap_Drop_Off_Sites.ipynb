{
 "cells": [
  {
   "cell_type": "markdown",
   "id": "124e5672",
   "metadata": {},
   "source": [
    "# Custom Chatbot Project"
   ]
  },
  {
   "cell_type": "markdown",
   "id": "2a4a94b3",
   "metadata": {},
   "source": [
    "I have chosen the `nyc_food_scrap_drop_off_sites.csv` dataset, which contains information about food scrap drop-off sites in New York City. This dataset is suitable for customization with an LLM because it includes structured data about different locations, operating hours, and other relevant details which are assumed to be up-to-date . By embedding and indexing this information, we can enable an LLM to answer specific questions about food scrap drop-off locations, their hours of operation, and other relevant site details efficiently.\n"
   ]
  },
  {
   "cell_type": "markdown",
   "id": "a63d4c5f",
   "metadata": {},
   "source": [
    "## Data Wrangling\n",
    "\n",
    "TODO: In the cells below, load your chosen dataset into a `pandas` dataframe with a column named `\"text\"`. This column should contain all of your text data, separated into at least 20 rows."
   ]
  },
  {
   "cell_type": "code",
   "execution_count": null,
   "id": "c69b83a1",
   "metadata": {},
   "outputs": [],
   "source": [
    "# Import libraries\n",
    "import pandas as pd\n",
    "import numpy as np\n",
    "import tiktoken\n",
    "from openai import OpenAI"
   ]
  },
  {
   "cell_type": "code",
   "execution_count": null,
   "id": "0a595980",
   "metadata": {},
   "outputs": [],
   "source": [
    "# Environment variables\n",
    "import openai\n",
    "\n",
    "#OPENAI_API_KEY = 'YOUR_API_KEY'\n",
    "OPENAI_API_KEY = 'YOUR_API_KEY'"
   ]
  },
  {
   "cell_type": "code",
   "execution_count": 3,
   "id": "acb3a9fd",
   "metadata": {},
   "outputs": [],
   "source": [
    "# Load dataset\n",
    "file_path = 'data/nyc_food_scrap_drop_off_sites.csv'\n",
    "df = pd.read_csv(file_path)"
   ]
  },
  {
   "cell_type": "code",
   "execution_count": 4,
   "id": "a05e2db1",
   "metadata": {},
   "outputs": [
    {
     "data": {
      "text/html": [
       "<div>\n",
       "<style scoped>\n",
       "    .dataframe tbody tr th:only-of-type {\n",
       "        vertical-align: middle;\n",
       "    }\n",
       "\n",
       "    .dataframe tbody tr th {\n",
       "        vertical-align: top;\n",
       "    }\n",
       "\n",
       "    .dataframe thead th {\n",
       "        text-align: right;\n",
       "    }\n",
       "</style>\n",
       "<table border=\"1\" class=\"dataframe\">\n",
       "  <thead>\n",
       "    <tr style=\"text-align: right;\">\n",
       "      <th></th>\n",
       "      <th>Unnamed: 0</th>\n",
       "      <th>borough</th>\n",
       "      <th>ntaname</th>\n",
       "      <th>food_scrap_drop_off_site</th>\n",
       "      <th>location</th>\n",
       "      <th>hosted_by</th>\n",
       "      <th>open_months</th>\n",
       "      <th>operation_day_hours</th>\n",
       "      <th>website</th>\n",
       "      <th>borocd</th>\n",
       "      <th>...</th>\n",
       "      <th>location_point</th>\n",
       "      <th>:@computed_region_yeji_bk3q</th>\n",
       "      <th>:@computed_region_92fq_4b7q</th>\n",
       "      <th>:@computed_region_sbqj_enih</th>\n",
       "      <th>:@computed_region_efsh_h5xi</th>\n",
       "      <th>:@computed_region_f5dn_yrer</th>\n",
       "      <th>notes</th>\n",
       "      <th>ct2010</th>\n",
       "      <th>bbl</th>\n",
       "      <th>bin</th>\n",
       "    </tr>\n",
       "  </thead>\n",
       "  <tbody>\n",
       "    <tr>\n",
       "      <th>0</th>\n",
       "      <td>0</td>\n",
       "      <td>Staten Island</td>\n",
       "      <td>Grasmere-Arrochar-South Beach-Dongan Hills</td>\n",
       "      <td>South Beach</td>\n",
       "      <td>21 Robin Road, Staten Island NY</td>\n",
       "      <td>Snug Harbor Youth</td>\n",
       "      <td>Year Round</td>\n",
       "      <td>Friday (Start Time: 1:30 PM - End Time:  4:30 PM)</td>\n",
       "      <td>snug-harbor.org</td>\n",
       "      <td>502</td>\n",
       "      <td>...</td>\n",
       "      <td>{'type': 'Point', 'coordinates': [-74.062991, ...</td>\n",
       "      <td>1.0</td>\n",
       "      <td>14.0</td>\n",
       "      <td>76.0</td>\n",
       "      <td>10692.0</td>\n",
       "      <td>30.0</td>\n",
       "      <td>NaN</td>\n",
       "      <td>NaN</td>\n",
       "      <td>NaN</td>\n",
       "      <td>NaN</td>\n",
       "    </tr>\n",
       "    <tr>\n",
       "      <th>1</th>\n",
       "      <td>1</td>\n",
       "      <td>Manhattan</td>\n",
       "      <td>Inwood</td>\n",
       "      <td>SE Corner of Broadway &amp; Academy Street</td>\n",
       "      <td>NaN</td>\n",
       "      <td>Department of Sanitation</td>\n",
       "      <td>Year Round</td>\n",
       "      <td>24/7</td>\n",
       "      <td>www.nyc.gov/smartcomposting</td>\n",
       "      <td>112</td>\n",
       "      <td>...</td>\n",
       "      <td>NaN</td>\n",
       "      <td>NaN</td>\n",
       "      <td>NaN</td>\n",
       "      <td>NaN</td>\n",
       "      <td>NaN</td>\n",
       "      <td>NaN</td>\n",
       "      <td>Download the app to access bins. Accepts all f...</td>\n",
       "      <td>NaN</td>\n",
       "      <td>NaN</td>\n",
       "      <td>NaN</td>\n",
       "    </tr>\n",
       "    <tr>\n",
       "      <th>2</th>\n",
       "      <td>2</td>\n",
       "      <td>Brooklyn</td>\n",
       "      <td>Park Slope</td>\n",
       "      <td>Old Stone House Brooklyn</td>\n",
       "      <td>336 3rd St, Brooklyn, NY 11215</td>\n",
       "      <td>Old Stone House Brooklyn</td>\n",
       "      <td>Year Round</td>\n",
       "      <td>24/7 (Start Time: 24/7 - End Time:  24/7)</td>\n",
       "      <td>NaN</td>\n",
       "      <td>306</td>\n",
       "      <td>...</td>\n",
       "      <td>{'type': 'Point', 'coordinates': [-73.984731, ...</td>\n",
       "      <td>2.0</td>\n",
       "      <td>27.0</td>\n",
       "      <td>50.0</td>\n",
       "      <td>17617.0</td>\n",
       "      <td>14.0</td>\n",
       "      <td>NaN</td>\n",
       "      <td>NaN</td>\n",
       "      <td>NaN</td>\n",
       "      <td>NaN</td>\n",
       "    </tr>\n",
       "    <tr>\n",
       "      <th>3</th>\n",
       "      <td>3</td>\n",
       "      <td>Manhattan</td>\n",
       "      <td>East Harlem (North)</td>\n",
       "      <td>SE Corner of Pleasant Avenue &amp; E 116 Street</td>\n",
       "      <td>NaN</td>\n",
       "      <td>Department of Sanitation</td>\n",
       "      <td>Year Round</td>\n",
       "      <td>24/7</td>\n",
       "      <td>www.nyc.gov/smartcomposting</td>\n",
       "      <td>111</td>\n",
       "      <td>...</td>\n",
       "      <td>NaN</td>\n",
       "      <td>NaN</td>\n",
       "      <td>NaN</td>\n",
       "      <td>NaN</td>\n",
       "      <td>NaN</td>\n",
       "      <td>NaN</td>\n",
       "      <td>Download the app to access bins. Accepts all f...</td>\n",
       "      <td>NaN</td>\n",
       "      <td>NaN</td>\n",
       "      <td>NaN</td>\n",
       "    </tr>\n",
       "    <tr>\n",
       "      <th>4</th>\n",
       "      <td>4</td>\n",
       "      <td>Queens</td>\n",
       "      <td>Corona</td>\n",
       "      <td>Malcolm X FSDO</td>\n",
       "      <td>111-26 Northern Blvd, Flushing, NY 11368</td>\n",
       "      <td>NYC Compost Project Hosted by Big Reuse</td>\n",
       "      <td>Year Round</td>\n",
       "      <td>Tuesdays (Start Time: 12:00 PM - End Time:  2:...</td>\n",
       "      <td>NaN</td>\n",
       "      <td>404</td>\n",
       "      <td>...</td>\n",
       "      <td>{'type': 'Point', 'coordinates': [-73.8630721,...</td>\n",
       "      <td>3.0</td>\n",
       "      <td>21.0</td>\n",
       "      <td>68.0</td>\n",
       "      <td>14510.0</td>\n",
       "      <td>66.0</td>\n",
       "      <td>NaN</td>\n",
       "      <td>NaN</td>\n",
       "      <td>NaN</td>\n",
       "      <td>NaN</td>\n",
       "    </tr>\n",
       "  </tbody>\n",
       "</table>\n",
       "<p>5 rows × 25 columns</p>\n",
       "</div>"
      ],
      "text/plain": [
       "   Unnamed: 0        borough                                     ntaname  \\\n",
       "0           0  Staten Island  Grasmere-Arrochar-South Beach-Dongan Hills   \n",
       "1           1      Manhattan                                      Inwood   \n",
       "2           2       Brooklyn                                  Park Slope   \n",
       "3           3      Manhattan                         East Harlem (North)   \n",
       "4           4         Queens                                      Corona   \n",
       "\n",
       "                      food_scrap_drop_off_site  \\\n",
       "0                                  South Beach   \n",
       "1       SE Corner of Broadway & Academy Street   \n",
       "2                     Old Stone House Brooklyn   \n",
       "3  SE Corner of Pleasant Avenue & E 116 Street   \n",
       "4                               Malcolm X FSDO   \n",
       "\n",
       "                                   location  \\\n",
       "0           21 Robin Road, Staten Island NY   \n",
       "1                                       NaN   \n",
       "2            336 3rd St, Brooklyn, NY 11215   \n",
       "3                                       NaN   \n",
       "4  111-26 Northern Blvd, Flushing, NY 11368   \n",
       "\n",
       "                                 hosted_by open_months  \\\n",
       "0                        Snug Harbor Youth  Year Round   \n",
       "1                 Department of Sanitation  Year Round   \n",
       "2                 Old Stone House Brooklyn  Year Round   \n",
       "3                 Department of Sanitation  Year Round   \n",
       "4  NYC Compost Project Hosted by Big Reuse  Year Round   \n",
       "\n",
       "                                 operation_day_hours  \\\n",
       "0  Friday (Start Time: 1:30 PM - End Time:  4:30 PM)   \n",
       "1                                               24/7   \n",
       "2          24/7 (Start Time: 24/7 - End Time:  24/7)   \n",
       "3                                               24/7   \n",
       "4  Tuesdays (Start Time: 12:00 PM - End Time:  2:...   \n",
       "\n",
       "                       website  borocd  ...  \\\n",
       "0              snug-harbor.org     502  ...   \n",
       "1  www.nyc.gov/smartcomposting     112  ...   \n",
       "2                          NaN     306  ...   \n",
       "3  www.nyc.gov/smartcomposting     111  ...   \n",
       "4                          NaN     404  ...   \n",
       "\n",
       "                                      location_point  \\\n",
       "0  {'type': 'Point', 'coordinates': [-74.062991, ...   \n",
       "1                                                NaN   \n",
       "2  {'type': 'Point', 'coordinates': [-73.984731, ...   \n",
       "3                                                NaN   \n",
       "4  {'type': 'Point', 'coordinates': [-73.8630721,...   \n",
       "\n",
       "   :@computed_region_yeji_bk3q  :@computed_region_92fq_4b7q  \\\n",
       "0                          1.0                         14.0   \n",
       "1                          NaN                          NaN   \n",
       "2                          2.0                         27.0   \n",
       "3                          NaN                          NaN   \n",
       "4                          3.0                         21.0   \n",
       "\n",
       "   :@computed_region_sbqj_enih  :@computed_region_efsh_h5xi  \\\n",
       "0                         76.0                      10692.0   \n",
       "1                          NaN                          NaN   \n",
       "2                         50.0                      17617.0   \n",
       "3                          NaN                          NaN   \n",
       "4                         68.0                      14510.0   \n",
       "\n",
       "  :@computed_region_f5dn_yrer  \\\n",
       "0                        30.0   \n",
       "1                         NaN   \n",
       "2                        14.0   \n",
       "3                         NaN   \n",
       "4                        66.0   \n",
       "\n",
       "                                               notes  ct2010  bbl  bin  \n",
       "0                                                NaN     NaN  NaN  NaN  \n",
       "1  Download the app to access bins. Accepts all f...     NaN  NaN  NaN  \n",
       "2                                                NaN     NaN  NaN  NaN  \n",
       "3  Download the app to access bins. Accepts all f...     NaN  NaN  NaN  \n",
       "4                                                NaN     NaN  NaN  NaN  \n",
       "\n",
       "[5 rows x 25 columns]"
      ]
     },
     "execution_count": 4,
     "metadata": {},
     "output_type": "execute_result"
    }
   ],
   "source": [
    "df.head()"
   ]
  },
  {
   "cell_type": "code",
   "execution_count": 5,
   "id": "96127648",
   "metadata": {},
   "outputs": [],
   "source": [
    "# Select relevant columns and create a \"text\" column\n",
    "selected_columns = [\"borough\", \"ntaname\", \"food_scrap_drop_off_site\", \"location\", \"hosted_by\", \"open_months\", \"operation_day_hours\"]\n",
    "df = df[selected_columns]\n",
    "\n",
    "def format_text(row):\n",
    "    return (\n",
    "        f\"District: {row['borough']}. \"\n",
    "        f\"Neighborhood: {row['ntaname']}. \"\n",
    "        f\"Drop-off Site: {row['food_scrap_drop_off_site']}. \"\n",
    "        f\"Address: {row['location']}. \"\n",
    "        f\"Hosted By: {row['hosted_by']}. \"\n",
    "        f\"Open Months: {row['open_months']}. \"\n",
    "        f\"Operation Day Hours: {row['operation_day_hours']}\"\n",
    "    )\n",
    "\n",
    "df[\"text\"] = df.apply(format_text, axis=1)\n"
   ]
  },
  {
   "cell_type": "code",
   "execution_count": 6,
   "id": "625bf119",
   "metadata": {},
   "outputs": [],
   "source": [
    "#drop all columns except text\n",
    "df = df[[\"text\"]]"
   ]
  },
  {
   "cell_type": "code",
   "execution_count": 7,
   "id": "80fb2876",
   "metadata": {},
   "outputs": [
    {
     "data": {
      "text/html": [
       "<div>\n",
       "<style scoped>\n",
       "    .dataframe tbody tr th:only-of-type {\n",
       "        vertical-align: middle;\n",
       "    }\n",
       "\n",
       "    .dataframe tbody tr th {\n",
       "        vertical-align: top;\n",
       "    }\n",
       "\n",
       "    .dataframe thead th {\n",
       "        text-align: right;\n",
       "    }\n",
       "</style>\n",
       "<table border=\"1\" class=\"dataframe\">\n",
       "  <thead>\n",
       "    <tr style=\"text-align: right;\">\n",
       "      <th></th>\n",
       "      <th>text</th>\n",
       "    </tr>\n",
       "  </thead>\n",
       "  <tbody>\n",
       "    <tr>\n",
       "      <th>0</th>\n",
       "      <td>District: Staten Island. Neighborhood: Grasmer...</td>\n",
       "    </tr>\n",
       "    <tr>\n",
       "      <th>1</th>\n",
       "      <td>District: Manhattan. Neighborhood: Inwood. Dro...</td>\n",
       "    </tr>\n",
       "    <tr>\n",
       "      <th>2</th>\n",
       "      <td>District: Brooklyn. Neighborhood: Park Slope. ...</td>\n",
       "    </tr>\n",
       "    <tr>\n",
       "      <th>3</th>\n",
       "      <td>District: Manhattan. Neighborhood: East Harlem...</td>\n",
       "    </tr>\n",
       "    <tr>\n",
       "      <th>4</th>\n",
       "      <td>District: Queens. Neighborhood: Corona. Drop-o...</td>\n",
       "    </tr>\n",
       "  </tbody>\n",
       "</table>\n",
       "</div>"
      ],
      "text/plain": [
       "                                                text\n",
       "0  District: Staten Island. Neighborhood: Grasmer...\n",
       "1  District: Manhattan. Neighborhood: Inwood. Dro...\n",
       "2  District: Brooklyn. Neighborhood: Park Slope. ...\n",
       "3  District: Manhattan. Neighborhood: East Harlem...\n",
       "4  District: Queens. Neighborhood: Corona. Drop-o..."
      ]
     },
     "execution_count": 7,
     "metadata": {},
     "output_type": "execute_result"
    }
   ],
   "source": [
    "df.head()"
   ]
  },
  {
   "cell_type": "code",
   "execution_count": 8,
   "id": "582f0656",
   "metadata": {},
   "outputs": [],
   "source": [
    "EMBEDDING_MODEL = 'text-embedding-3-small'\n",
    "COMPLETION_MODEL = 'gpt-3.5-turbo'\n",
    "MAX_TOKENS = 1024  # Parameter to limit maximum token size\n",
    "# Initialize OpenAI Client\n",
    "\n",
    "client = OpenAI(\n",
    "    base_url = \"https://openai.vocareum.com/v1\",\n",
    "    api_key = OPENAI_API_KEY\n",
    ")"
   ]
  },
  {
   "cell_type": "code",
   "execution_count": 9,
   "id": "8b6e1f75",
   "metadata": {},
   "outputs": [],
   "source": [
    "# Function to generate embeddings\n",
    "def get_embeddings(text, model=EMBEDDING_MODEL):\n",
    "    response = client.embeddings.create(\n",
    "        model=model,\n",
    "        input=[text]\n",
    "    )\n",
    "    return response.data[0].embedding"
   ]
  },
  {
   "cell_type": "code",
   "execution_count": 13,
   "id": "c403f543",
   "metadata": {},
   "outputs": [],
   "source": [
    "# Add embeddings to DataFrame\n",
    "df[\"embedding\"] = df[\"text\"].apply(lambda x: get_embeddings(x))"
   ]
  },
  {
   "cell_type": "code",
   "execution_count": 14,
   "id": "70bac6a3",
   "metadata": {},
   "outputs": [
    {
     "data": {
      "text/html": [
       "<div>\n",
       "<style scoped>\n",
       "    .dataframe tbody tr th:only-of-type {\n",
       "        vertical-align: middle;\n",
       "    }\n",
       "\n",
       "    .dataframe tbody tr th {\n",
       "        vertical-align: top;\n",
       "    }\n",
       "\n",
       "    .dataframe thead th {\n",
       "        text-align: right;\n",
       "    }\n",
       "</style>\n",
       "<table border=\"1\" class=\"dataframe\">\n",
       "  <thead>\n",
       "    <tr style=\"text-align: right;\">\n",
       "      <th></th>\n",
       "      <th>text</th>\n",
       "      <th>embedding</th>\n",
       "    </tr>\n",
       "  </thead>\n",
       "  <tbody>\n",
       "    <tr>\n",
       "      <th>0</th>\n",
       "      <td>District: Staten Island. Neighborhood: Grasmer...</td>\n",
       "      <td>[-0.04354222118854523, -0.030399683862924576, ...</td>\n",
       "    </tr>\n",
       "    <tr>\n",
       "      <th>1</th>\n",
       "      <td>District: Manhattan. Neighborhood: Inwood. Dro...</td>\n",
       "      <td>[-0.031039925292134285, -0.02552143484354019, ...</td>\n",
       "    </tr>\n",
       "    <tr>\n",
       "      <th>2</th>\n",
       "      <td>District: Brooklyn. Neighborhood: Park Slope. ...</td>\n",
       "      <td>[-0.017346501350402832, -0.03575720638036728, ...</td>\n",
       "    </tr>\n",
       "    <tr>\n",
       "      <th>3</th>\n",
       "      <td>District: Manhattan. Neighborhood: East Harlem...</td>\n",
       "      <td>[-0.018853355199098587, -0.021509796380996704,...</td>\n",
       "    </tr>\n",
       "    <tr>\n",
       "      <th>4</th>\n",
       "      <td>District: Queens. Neighborhood: Corona. Drop-o...</td>\n",
       "      <td>[-0.024035673588514328, -0.014160173945128918,...</td>\n",
       "    </tr>\n",
       "  </tbody>\n",
       "</table>\n",
       "</div>"
      ],
      "text/plain": [
       "                                                text  \\\n",
       "0  District: Staten Island. Neighborhood: Grasmer...   \n",
       "1  District: Manhattan. Neighborhood: Inwood. Dro...   \n",
       "2  District: Brooklyn. Neighborhood: Park Slope. ...   \n",
       "3  District: Manhattan. Neighborhood: East Harlem...   \n",
       "4  District: Queens. Neighborhood: Corona. Drop-o...   \n",
       "\n",
       "                                           embedding  \n",
       "0  [-0.04354222118854523, -0.030399683862924576, ...  \n",
       "1  [-0.031039925292134285, -0.02552143484354019, ...  \n",
       "2  [-0.017346501350402832, -0.03575720638036728, ...  \n",
       "3  [-0.018853355199098587, -0.021509796380996704,...  \n",
       "4  [-0.024035673588514328, -0.014160173945128918,...  "
      ]
     },
     "execution_count": 14,
     "metadata": {},
     "output_type": "execute_result"
    }
   ],
   "source": [
    "df.head()"
   ]
  },
  {
   "cell_type": "code",
   "execution_count": 15,
   "id": "19dad497",
   "metadata": {},
   "outputs": [],
   "source": [
    "# Define questions\n",
    "questions = [\n",
    "    \"Where can I drop off food scraps in Queens, Astoria on Monday?\",\n",
    "    \"What are the hours of operation for food scrap drop-off location at Maggie's Magic Garden in Manhattan?\"\n",
    "]"
   ]
  },
  {
   "cell_type": "code",
   "execution_count": 16,
   "id": "13f2dcd7",
   "metadata": {},
   "outputs": [],
   "source": [
    "# Function to compute cosine similarity\n",
    "def cosine_similarity(vec1, vec2):\n",
    "    return np.dot(vec1, vec2) / (np.linalg.norm(vec1) * np.linalg.norm(vec2))"
   ]
  },
  {
   "cell_type": "code",
   "execution_count": 17,
   "id": "614ea3a3",
   "metadata": {},
   "outputs": [],
   "source": [
    "# Compute similarity scores\n",
    "def get_most_similar_context(question, df):\n",
    "    question_embedding = get_embeddings(question)\n",
    "    df[\"similarity\"] = df[\"embedding\"].apply(lambda x: cosine_similarity(question_embedding, x))\n",
    "    return df.sort_values(\"similarity\", ascending=False)\n",
    "\n"
   ]
  },
  {
   "cell_type": "code",
   "execution_count": 18,
   "id": "2f86b41f",
   "metadata": {},
   "outputs": [],
   "source": [
    "# Add similarity scores to DataFrame\n",
    "df[\"q1_similarity\"] = df[\"embedding\"].apply(lambda x: cosine_similarity(get_embeddings(questions[0]), x))\n",
    "df[\"q2_similarity\"] = df[\"embedding\"].apply(lambda x: cosine_similarity(get_embeddings(questions[1]), x))"
   ]
  },
  {
   "cell_type": "code",
   "execution_count": 19,
   "id": "d9bd0e32",
   "metadata": {},
   "outputs": [
    {
     "data": {
      "text/html": [
       "<div>\n",
       "<style scoped>\n",
       "    .dataframe tbody tr th:only-of-type {\n",
       "        vertical-align: middle;\n",
       "    }\n",
       "\n",
       "    .dataframe tbody tr th {\n",
       "        vertical-align: top;\n",
       "    }\n",
       "\n",
       "    .dataframe thead th {\n",
       "        text-align: right;\n",
       "    }\n",
       "</style>\n",
       "<table border=\"1\" class=\"dataframe\">\n",
       "  <thead>\n",
       "    <tr style=\"text-align: right;\">\n",
       "      <th></th>\n",
       "      <th>text</th>\n",
       "      <th>embedding</th>\n",
       "      <th>q1_similarity</th>\n",
       "      <th>q2_similarity</th>\n",
       "    </tr>\n",
       "  </thead>\n",
       "  <tbody>\n",
       "    <tr>\n",
       "      <th>0</th>\n",
       "      <td>District: Staten Island. Neighborhood: Grasmer...</td>\n",
       "      <td>[-0.04354222118854523, -0.030399683862924576, ...</td>\n",
       "      <td>0.466751</td>\n",
       "      <td>0.470491</td>\n",
       "    </tr>\n",
       "    <tr>\n",
       "      <th>1</th>\n",
       "      <td>District: Manhattan. Neighborhood: Inwood. Dro...</td>\n",
       "      <td>[-0.031039925292134285, -0.02552143484354019, ...</td>\n",
       "      <td>0.574344</td>\n",
       "      <td>0.534520</td>\n",
       "    </tr>\n",
       "    <tr>\n",
       "      <th>2</th>\n",
       "      <td>District: Brooklyn. Neighborhood: Park Slope. ...</td>\n",
       "      <td>[-0.017346501350402832, -0.03575720638036728, ...</td>\n",
       "      <td>0.486889</td>\n",
       "      <td>0.456158</td>\n",
       "    </tr>\n",
       "    <tr>\n",
       "      <th>3</th>\n",
       "      <td>District: Manhattan. Neighborhood: East Harlem...</td>\n",
       "      <td>[-0.018853355199098587, -0.021509796380996704,...</td>\n",
       "      <td>0.578542</td>\n",
       "      <td>0.572399</td>\n",
       "    </tr>\n",
       "    <tr>\n",
       "      <th>4</th>\n",
       "      <td>District: Queens. Neighborhood: Corona. Drop-o...</td>\n",
       "      <td>[-0.024035673588514328, -0.014160173945128918,...</td>\n",
       "      <td>0.669496</td>\n",
       "      <td>0.507913</td>\n",
       "    </tr>\n",
       "  </tbody>\n",
       "</table>\n",
       "</div>"
      ],
      "text/plain": [
       "                                                text  \\\n",
       "0  District: Staten Island. Neighborhood: Grasmer...   \n",
       "1  District: Manhattan. Neighborhood: Inwood. Dro...   \n",
       "2  District: Brooklyn. Neighborhood: Park Slope. ...   \n",
       "3  District: Manhattan. Neighborhood: East Harlem...   \n",
       "4  District: Queens. Neighborhood: Corona. Drop-o...   \n",
       "\n",
       "                                           embedding  q1_similarity  \\\n",
       "0  [-0.04354222118854523, -0.030399683862924576, ...       0.466751   \n",
       "1  [-0.031039925292134285, -0.02552143484354019, ...       0.574344   \n",
       "2  [-0.017346501350402832, -0.03575720638036728, ...       0.486889   \n",
       "3  [-0.018853355199098587, -0.021509796380996704,...       0.578542   \n",
       "4  [-0.024035673588514328, -0.014160173945128918,...       0.669496   \n",
       "\n",
       "   q2_similarity  \n",
       "0       0.470491  \n",
       "1       0.534520  \n",
       "2       0.456158  \n",
       "3       0.572399  \n",
       "4       0.507913  "
      ]
     },
     "execution_count": 19,
     "metadata": {},
     "output_type": "execute_result"
    }
   ],
   "source": [
    "df.head()"
   ]
  },
  {
   "cell_type": "code",
   "execution_count": 20,
   "id": "d4aa95d6",
   "metadata": {},
   "outputs": [
    {
     "data": {
      "text/html": [
       "<div>\n",
       "<style scoped>\n",
       "    .dataframe tbody tr th:only-of-type {\n",
       "        vertical-align: middle;\n",
       "    }\n",
       "\n",
       "    .dataframe tbody tr th {\n",
       "        vertical-align: top;\n",
       "    }\n",
       "\n",
       "    .dataframe thead th {\n",
       "        text-align: right;\n",
       "    }\n",
       "</style>\n",
       "<table border=\"1\" class=\"dataframe\">\n",
       "  <thead>\n",
       "    <tr style=\"text-align: right;\">\n",
       "      <th></th>\n",
       "      <th>text</th>\n",
       "      <th>embedding</th>\n",
       "      <th>q1_similarity</th>\n",
       "      <th>q2_similarity</th>\n",
       "    </tr>\n",
       "  </thead>\n",
       "  <tbody>\n",
       "    <tr>\n",
       "      <th>73</th>\n",
       "      <td>District: Queens. Neighborhood: Astoria (Centr...</td>\n",
       "      <td>[-0.01626589708030224, -0.02935090847313404, 0...</td>\n",
       "      <td>0.740035</td>\n",
       "      <td>0.533419</td>\n",
       "    </tr>\n",
       "    <tr>\n",
       "      <th>340</th>\n",
       "      <td>District: Queens. Neighborhood: Astoria (Centr...</td>\n",
       "      <td>[-0.027998557314276695, -0.029488882049918175,...</td>\n",
       "      <td>0.735256</td>\n",
       "      <td>0.529860</td>\n",
       "    </tr>\n",
       "    <tr>\n",
       "      <th>224</th>\n",
       "      <td>District: Queens. Neighborhood: Astoria (Centr...</td>\n",
       "      <td>[-0.026699451729655266, -0.028611741960048676,...</td>\n",
       "      <td>0.732745</td>\n",
       "      <td>0.534050</td>\n",
       "    </tr>\n",
       "    <tr>\n",
       "      <th>191</th>\n",
       "      <td>District: Queens. Neighborhood: Astoria (Centr...</td>\n",
       "      <td>[-0.024547377601265907, -0.028699669986963272,...</td>\n",
       "      <td>0.732462</td>\n",
       "      <td>0.529949</td>\n",
       "    </tr>\n",
       "    <tr>\n",
       "      <th>148</th>\n",
       "      <td>District: Queens. Neighborhood: Astoria (Centr...</td>\n",
       "      <td>[-0.023935502395033836, -0.02801968716084957, ...</td>\n",
       "      <td>0.731926</td>\n",
       "      <td>0.532868</td>\n",
       "    </tr>\n",
       "  </tbody>\n",
       "</table>\n",
       "</div>"
      ],
      "text/plain": [
       "                                                  text  \\\n",
       "73   District: Queens. Neighborhood: Astoria (Centr...   \n",
       "340  District: Queens. Neighborhood: Astoria (Centr...   \n",
       "224  District: Queens. Neighborhood: Astoria (Centr...   \n",
       "191  District: Queens. Neighborhood: Astoria (Centr...   \n",
       "148  District: Queens. Neighborhood: Astoria (Centr...   \n",
       "\n",
       "                                             embedding  q1_similarity  \\\n",
       "73   [-0.01626589708030224, -0.02935090847313404, 0...       0.740035   \n",
       "340  [-0.027998557314276695, -0.029488882049918175,...       0.735256   \n",
       "224  [-0.026699451729655266, -0.028611741960048676,...       0.732745   \n",
       "191  [-0.024547377601265907, -0.028699669986963272,...       0.732462   \n",
       "148  [-0.023935502395033836, -0.02801968716084957, ...       0.731926   \n",
       "\n",
       "     q2_similarity  \n",
       "73        0.533419  \n",
       "340       0.529860  \n",
       "224       0.534050  \n",
       "191       0.529949  \n",
       "148       0.532868  "
      ]
     },
     "execution_count": 20,
     "metadata": {},
     "output_type": "execute_result"
    }
   ],
   "source": [
    "df.sort_values(\"q1_similarity\", ascending=False).head()"
   ]
  },
  {
   "cell_type": "code",
   "execution_count": 21,
   "id": "5f4c6ba0",
   "metadata": {},
   "outputs": [
    {
     "data": {
      "text/html": [
       "<div>\n",
       "<style scoped>\n",
       "    .dataframe tbody tr th:only-of-type {\n",
       "        vertical-align: middle;\n",
       "    }\n",
       "\n",
       "    .dataframe tbody tr th {\n",
       "        vertical-align: top;\n",
       "    }\n",
       "\n",
       "    .dataframe thead th {\n",
       "        text-align: right;\n",
       "    }\n",
       "</style>\n",
       "<table border=\"1\" class=\"dataframe\">\n",
       "  <thead>\n",
       "    <tr style=\"text-align: right;\">\n",
       "      <th></th>\n",
       "      <th>text</th>\n",
       "      <th>embedding</th>\n",
       "      <th>q1_similarity</th>\n",
       "      <th>q2_similarity</th>\n",
       "    </tr>\n",
       "  </thead>\n",
       "  <tbody>\n",
       "    <tr>\n",
       "      <th>444</th>\n",
       "      <td>District: Manhattan. Neighborhood: Hamilton He...</td>\n",
       "      <td>[-0.012295011430978775, -0.04007171094417572, ...</td>\n",
       "      <td>0.471015</td>\n",
       "      <td>0.739306</td>\n",
       "    </tr>\n",
       "    <tr>\n",
       "      <th>121</th>\n",
       "      <td>District: Manhattan. Neighborhood: East Harlem...</td>\n",
       "      <td>[-0.004335145931690931, -0.03613698109984398, ...</td>\n",
       "      <td>0.455026</td>\n",
       "      <td>0.727634</td>\n",
       "    </tr>\n",
       "    <tr>\n",
       "      <th>165</th>\n",
       "      <td>District: Manhattan. Neighborhood: Midtown Sou...</td>\n",
       "      <td>[-0.029151948168873787, -0.03979134559631348, ...</td>\n",
       "      <td>0.641776</td>\n",
       "      <td>0.670170</td>\n",
       "    </tr>\n",
       "    <tr>\n",
       "      <th>116</th>\n",
       "      <td>District: Manhattan. Neighborhood: Upper East ...</td>\n",
       "      <td>[-0.023982951417565346, -0.01543155312538147, ...</td>\n",
       "      <td>0.670466</td>\n",
       "      <td>0.657147</td>\n",
       "    </tr>\n",
       "    <tr>\n",
       "      <th>550</th>\n",
       "      <td>District: Manhattan. Neighborhood: Upper East ...</td>\n",
       "      <td>[-0.03148358687758446, -0.029784396290779114, ...</td>\n",
       "      <td>0.635455</td>\n",
       "      <td>0.645556</td>\n",
       "    </tr>\n",
       "  </tbody>\n",
       "</table>\n",
       "</div>"
      ],
      "text/plain": [
       "                                                  text  \\\n",
       "444  District: Manhattan. Neighborhood: Hamilton He...   \n",
       "121  District: Manhattan. Neighborhood: East Harlem...   \n",
       "165  District: Manhattan. Neighborhood: Midtown Sou...   \n",
       "116  District: Manhattan. Neighborhood: Upper East ...   \n",
       "550  District: Manhattan. Neighborhood: Upper East ...   \n",
       "\n",
       "                                             embedding  q1_similarity  \\\n",
       "444  [-0.012295011430978775, -0.04007171094417572, ...       0.471015   \n",
       "121  [-0.004335145931690931, -0.03613698109984398, ...       0.455026   \n",
       "165  [-0.029151948168873787, -0.03979134559631348, ...       0.641776   \n",
       "116  [-0.023982951417565346, -0.01543155312538147, ...       0.670466   \n",
       "550  [-0.03148358687758446, -0.029784396290779114, ...       0.635455   \n",
       "\n",
       "     q2_similarity  \n",
       "444       0.739306  \n",
       "121       0.727634  \n",
       "165       0.670170  \n",
       "116       0.657147  \n",
       "550       0.645556  "
      ]
     },
     "execution_count": 21,
     "metadata": {},
     "output_type": "execute_result"
    }
   ],
   "source": [
    "df.sort_values(\"q2_similarity\", ascending=False).head()"
   ]
  },
  {
   "cell_type": "code",
   "execution_count": 22,
   "id": "b2c4a2b7",
   "metadata": {},
   "outputs": [],
   "source": [
    "# Save embeddings to CSV\n",
    "df.to_csv(\"data/nyc_food_scrap_embeddings.csv\", index=False)"
   ]
  },
  {
   "cell_type": "markdown",
   "id": "ae769871",
   "metadata": {},
   "source": [
    "## Custom Query Completion\n",
    "\n",
    "TODO: In the cells below, compose a custom query using your chosen dataset and retrieve results from an OpenAI `Completion` model. You may copy and paste any useful code from the course materials."
   ]
  },
  {
   "cell_type": "code",
   "execution_count": 23,
   "id": "142274be",
   "metadata": {},
   "outputs": [],
   "source": [
    "# Function to tokenize text and count tokens\n",
    "def count_tokens(text):\n",
    "    encoding = tiktoken.get_encoding(\"cl100k_base\")\n",
    "    return len(encoding.encode(text))"
   ]
  },
  {
   "cell_type": "code",
   "execution_count": 24,
   "id": "8cbf8534",
   "metadata": {},
   "outputs": [],
   "source": [
    "# Function to generate response from LLM\n",
    "def get_response(prompt, model=COMPLETION_MODEL):\n",
    "    response = client.chat.completions.create(\n",
    "        model=model,\n",
    "        messages=[{\"role\": \"system\", \"content\": \"You are a helpful assistant that answers questions about NYC food scrap drop-off sites. If you don't know the answer, you can say 'I dont know'. 24/7 means everyday, all day.\"},\n",
    "                  {\"role\": \"user\", \"content\": prompt}]\n",
    "    )\n",
    "    return response.choices[0].message.content"
   ]
  },
  {
   "cell_type": "code",
   "execution_count": 25,
   "id": "74280b92",
   "metadata": {},
   "outputs": [],
   "source": [
    "# Function to build a simple prompt\n",
    "def build_simple_prompt(question):\n",
    "    return f\"Answer the following question: {question}\""
   ]
  },
  {
   "cell_type": "code",
   "execution_count": 26,
   "id": "10343912",
   "metadata": {},
   "outputs": [],
   "source": [
    "# Function to build a custom context\n",
    "MAX_TOKENS=1024\n",
    "def build_custom_context(question, df, max_tokens=MAX_TOKENS):\n",
    "    relevant_texts = []\n",
    "    token_count = 0\n",
    "    for _, row in get_most_similar_context(question, df).iterrows():\n",
    "        text = row[\"text\"]\n",
    "        text_tokens = len(text.split())\n",
    "        if token_count + text_tokens <= max_tokens:\n",
    "            relevant_texts.append(text)\n",
    "            token_count += text_tokens\n",
    "        else:\n",
    "            break\n",
    "    return \"\\n\".join(relevant_texts)"
   ]
  },
  {
   "cell_type": "code",
   "execution_count": 28,
   "id": "9f5bc1f3",
   "metadata": {},
   "outputs": [
    {
     "data": {
      "text/plain": [
       "'District: Queens. Neighborhood: Astoria (Central). Drop-off Site: S/E Corner of\\xa038\\xa0St\\xa0& 31\\xa0Avenue, on\\xa038\\xa0St. Address: S/E Corner of\\xa038\\xa0St\\xa0& 31\\xa0Avenue, on\\xa038\\xa0St. Hosted By: Department of Sanitation. Open Months: Year Round. Operation Day Hours: 24/8\\nDistrict: Queens. Neighborhood: Astoria (Central). Drop-off Site: N/W corner of 31 ave and 35 st. Address: N/W corner of 31 ave and 35 st. Hosted By: Department of Sanitation. Open Months: Year Round. Operation Day Hours: 24/7\\nDistrict: Queens. Neighborhood: Astoria (Central). Drop-off Site: N/W Corner of 31 Ave and 29 St. Address: N/W Corner of 31 Ave and 29 St. Hosted By: Department of Sanitation. Open Months: Year Round. Operation Day Hours: 24/7\\nDistrict: Queens. Neighborhood: Astoria (Central). Drop-off Site: S/E Corner of 31 Ave and 35 St. Address: S/E Corner of 31 Ave and 35 St. Hosted By: Department of Sanitation. Open Months: Year Round. Operation Day Hours: 24/7\\nDistrict: Queens. Neighborhood: Astoria (Central). Drop-off Site: S/E Corner of 31 Ave and 29 St. Address: S/E Corner of 31 Ave and 29 St. Hosted By: Department of Sanitation. Open Months: Year Round. Operation Day Hours: 24/7\\nDistrict: Queens. Neighborhood: Astoria (Central). Drop-off Site: N/W Corner of 31 Ave and 37 St. Address: N/W Corner of 31 Ave and 37 St. Hosted By: Department of Sanitation. Open Months: Year Round. Operation Day Hours: 24/7\\nDistrict: Queens. Neighborhood: Astoria (Central). Drop-off Site: S/E Corner of 31 Ave and Crescent St. Address: S/E Corner of 31 Ave and Crescent St. Hosted By: Department of Sanitation. Open Months: Year Round. Operation Day Hours: 24/7\\nDistrict: Queens. Neighborhood: Astoria (Central). Drop-off Site: 25-10 31 Avenue. Address: nan. Hosted By: Department of Sanitation. Open Months: Year Round. Operation Day Hours: 24/7\\nDistrict: Queens. Neighborhood: Astoria (Central). Drop-off Site: S/E Corner of 31\\xa0Ave &\\xa036\\xa0St, on 31\\xa0Ave. Address: S/E Corner of 31\\xa0Ave &\\xa036\\xa0St, on 31\\xa0Ave. Hosted By: Department of Sanitation. Open Months: Year Round. Operation Day Hours: 24/9\\nDistrict: Queens. Neighborhood: Astoria (Central). Drop-off Site: 32 St between 31 Ave and 30 Ave. Address: 32 St between 31 Ave and 30 Ave. Hosted By: Department of Sanitation. Open Months: Year Round. Operation Day Hours: 24/7\\nDistrict: Queens. Neighborhood: Astoria (Central). Drop-off Site: 25-35 31 Avenue. Address: nan. Hosted By: Department of Sanitation. Open Months: Year Round. Operation Day Hours: 24/7\\nDistrict: Queens. Neighborhood: Astoria (Central). Drop-off Site: NE Corner of 31 Avenue & 37 Street. Address: nan. Hosted By: Department of Sanitation. Open Months: Year Round. Operation Day Hours: 24/7\\nDistrict: Queens. Neighborhood: Kew Gardens. Drop-off Site: Kew Gardens Food Scrap Drop-off. Address: Metropolitan Ave & Audley St. Hosted By: GrowNYC. Open Months: Year Round. Operation Day Hours: Thursdays (Start Time: 9:30 AM - End Time:  12:30 PM)\\nDistrict: Queens. Neighborhood: Astoria (Central). Drop-off Site: East Side of 32nd St between 31st Ave and 30th Ave. Address: E/S of 32nd St b/t 31st Ave and 30th Ave. Hosted By: Department of Sanitation. Open Months: Year Round. Operation Day Hours: 24/7\\nDistrict: Queens. Neighborhood: Astoria (Central). Drop-off Site: West Side of 33rd St between 31st Ave & Broadway, near Astoria TWR & Subway. Address: W/S of 33rd St b/t 31st Ave & Broadway, near Astoria TWR & Subway. Hosted By: Department of Sanitation. Open Months: Year Round. Operation Day Hours: 24/7\\nDistrict: Queens. Neighborhood: Astoria (Central). Drop-off Site: SE Corner of 31st Ave & 29th St. Address: SE Corner of 31st Ave & 29th St. Hosted By: Department of Sanitation. Open Months: Year Round. Operation Day Hours: 24/7\\nDistrict: Queens. Neighborhood: Astoria (Central). Drop-off Site: SW Corner of 33rd Street & 31st Avenue. Address: nan. Hosted By: Department of Sanitation. Open Months: Year Round. Operation Day Hours: 24/7\\nDistrict: Queens. Neighborhood: Astoria (Central). Drop-off Site: SE Corner of 31st Ave & 35th St. Address: SE Corner of 31s Ave & 35th St. Hosted By: Department of Sanitation. Open Months: Year Round. Operation Day Hours: 24/7\\nDistrict: Queens. Neighborhood: Astoria (Central). Drop-off Site: SE Corner of 31st Ave & Crescent St. Address: SE Corner of 31st Ave & Crescent St. Hosted By: Department of Sanitation. Open Months: Year Round. Operation Day Hours: 24/7\\nDistrict: Queens. Neighborhood: Astoria (Central). Drop-off Site: NW Corner of 37th St & 31st Ave. Address: NW Corner of 37th St & 31st Ave [on 37th St]. Hosted By: Department of Sanitation. Open Months: Year Round. Operation Day Hours: 24/7\\nDistrict: Queens. Neighborhood: Astoria (Central). Drop-off Site: NW Corner of 31st Ave & 29th St. Address: NW Corner of 31st Ave & 29th St. Hosted By: Department of Sanitation. Open Months: Year Round. Operation Day Hours: 24/7\\nDistrict: Queens. Neighborhood: Astoria (Central). Drop-off Site: 31-28 Crescent Street. Address: nan. Hosted By: Department of Sanitation. Open Months: Year Round. Operation Day Hours: 24/7\\nDistrict: Queens. Neighborhood: Astoria (Central). Drop-off Site: SE Corner of 32nd Street & 31st Avenue. Address: nan. Hosted By: Department of Sanitation. Open Months: Year Round. Operation Day Hours: 24/7\\nDistrict: Queens. Neighborhood: Astoria (Central). Drop-off Site: SE Corner of 31st Street & 31st Avenue. Address: nan. Hosted By: Department of Sanitation. Open Months: Year Round. Operation Day Hours: 24/7\\nDistrict: Queens. Neighborhood: Astoria (Central). Drop-off Site: 31 St between 31 Ave and Broadway. Address: 31 St between 31 Ave and Broadway. Hosted By: Department of Sanitation. Open Months: Year Round. Operation Day Hours: 24/7\\nDistrict: Queens. Neighborhood: Astoria (Central). Drop-off Site: 31 St between 31 Ave and Broadway. Address: 31 St between 31 Ave and Broadway. Hosted By: Department of Sanitation. Open Months: Year Round. Operation Day Hours: 24/7\\nDistrict: Queens. Neighborhood: Astoria (Central). Drop-off Site: 33 St between Broadway and 31 Ave. Address: 33 St between Broadway and 31 Ave. Hosted By: Department of Sanitation. Open Months: Year Round. Operation Day Hours: 24/7\\nDistrict: Queens. Neighborhood: Astoria (Central). Drop-off Site: NW Corner of 31st Ave & 35th St. Address: 30 Ft frm NW Corner of 31st Ave & 35th St. Hosted By: Department of Sanitation. Open Months: Year Round. Operation Day Hours: 24/7'"
      ]
     },
     "execution_count": 28,
     "metadata": {},
     "output_type": "execute_result"
    }
   ],
   "source": [
    "build_custom_context(questions[0], df, max_tokens=MAX_TOKENS)\n"
   ]
  },
  {
   "cell_type": "code",
   "execution_count": 29,
   "id": "7de990ed",
   "metadata": {},
   "outputs": [
    {
     "data": {
      "text/plain": [
       "\"District: Manhattan. Neighborhood: Hamilton Heights-Sugar Hill. Drop-off Site: Maggie's Garden. Address: 564 W 149th St. Hosted By: Maggie's Garden. Open Months: Year Round. Operation Day Hours: 24/7 (Start Time: 24/7 - End Time:  24/7)\\nDistrict: Manhattan. Neighborhood: East Harlem (South). Drop-off Site: Maggie's Magic Garden. Address: 1574 Lexington Ave, New York, NY 10029. Hosted By: Maggie's Magic Garden. Open Months: Year Round. Operation Day Hours: Every day (Start Time: Dawn - End Time:  Dusk)\\nDistrict: Manhattan. Neighborhood: Midtown South-Flatiron-Union Square. Drop-off Site: Madison Square Park Food Scrap Drop-off. Address: 23rd St & Broadway. Hosted By: GrowNYC. Open Months: Year Round. Operation Day Hours: Wednesdays (Start Time: 8:00 AM - End Time:  1:00 PM)\\nDistrict: Manhattan. Neighborhood: Upper East Side-Yorkville. Drop-off Site: Asphalt Green Food Scrap Drop-off. Address: East 91st St & York Ave. Hosted By: GrowNYC. Open Months: Year Round. Operation Day Hours: Sundays (Start Time: 7:30 AM - End Time:  12:30 PM)\\nDistrict: Manhattan. Neighborhood: Upper East Side-Carnegie Hill. Drop-off Site: East 96th Street Food Scrap Drop-off. Address: 96th St & Lexington Ave. Hosted By: GrowNYC. Open Months: Year Round. Operation Day Hours: Fridays (Start Time: 7:30 AM - End Time:  11:30 AM)\\nDistrict: Manhattan. Neighborhood: Hamilton Heights-Sugar Hill. Drop-off Site: 145th St Food Scrap Drop-off. Address: 145th St & Edgecombe Ave. Hosted By: GrowNYC. Open Months: Year Round. Operation Day Hours: Thursdays (Start Time: 7:30 AM - End Time:  12:00 PM)\\nDistrict: Queens. Neighborhood: Kew Gardens. Drop-off Site: Kew Gardens Food Scrap Drop-off. Address: Metropolitan Ave & Audley St. Hosted By: GrowNYC. Open Months: Year Round. Operation Day Hours: Thursdays (Start Time: 9:30 AM - End Time:  12:30 PM)\\nDistrict: Manhattan. Neighborhood: East Harlem (North). Drop-off Site: CLOSED FOR THE SEASON: Lydia's Magic Garden. Address: 1665 Park Avenue, Manhattan 10035 between 117th and 118th Streets. Hosted By: Lydia's Magic Garden. Open Months: Seasonal. Operation Day Hours: Tuesday-Sunday (Start Time: Tuesday 5:00 PM; Wednesday 7:30AM; Thursday 6:00 PM; Friday 8:00 AM; Saturday 10:00 AM; Sunday 10:00 AM - End Time:  Tuesday 7:00 PM; Wednesday 9:00 AM; Thursday 7:00PM; Friday 10:00 AM, Saturday 12:00 PM; Sunday 12:00 PM)\\nDistrict: Manhattan. Neighborhood: Hamilton Heights-Sugar Hill. Drop-off Site: Jenny's Garden. Address: 699 West 138th Street. Hosted By: Jenny's Garden. Open Months: Year Round. Operation Day Hours: Sundays (Start Time: 12:00 PM - End Time:  1:00 PM)\\nDistrict: Bronx. Neighborhood: Mott Haven-Port Morris. Drop-off Site: Mott Haven Food Scrap Drop-off. Address: 545 East 142nd Street. Hosted By: GrowNYC. Open Months: Year Round. Operation Day Hours: Wednesdays (Start Time: 9:00 AM - End Time:  12:00 PM)\\nDistrict: Brooklyn. Neighborhood: Kensington. Drop-off Site: Kensington Food Scrap Drop-off. Address: McDonald Ave & Albemarle Rd. Hosted By: GrowNYC. Open Months: Year Round. Operation Day Hours: Saturdays (Start Time: 8:30 AM - End Time:  11:30 AM)\\nDistrict: Brooklyn. Neighborhood: Prospect Heights. Drop-off Site: Prospect Heights Food Scrap Drop-off. Address: Park Place & Carlton Ave. Hosted By: GrowNYC. Open Months: Year Round. Operation Day Hours: Thursdays (Start Time: 8:00 AM - End Time:  11:00 AM)\\nDistrict: Manhattan. Neighborhood: East Village. Drop-off Site: Tompkins Square Greenmarket. Address: E 7th St & Avenue A, New York, NY 10009. Hosted By: NYC Compost Project Hosted by LES Ecology Center. Open Months: Year Round. Operation Day Hours: Sundays (Start Time: 8:00 AM - End Time:  5:00 PM)\\nDistrict: Manhattan. Neighborhood: Morningside Heights. Drop-off Site: SE Corner of Amsterdam Avenue & W 113 Street. Address: nan. Hosted By: Department of Sanitation. Open Months: Year Round. Operation Day Hours: 24/7\\nDistrict: Brooklyn. Neighborhood: Bushwick (East). Drop-off Site: Wilson Ave Food Scrap Drop-off. Address: Wilson Ave & Moffat St (near L train). Hosted By: GrowNYC. Open Months: Year Round. Operation Day Hours: Thursdays (Start Time: 9:00 AM - End Time:  1:00 PM)\\nDistrict: Manhattan. Neighborhood: Morningside Heights. Drop-off Site: SE Corner of W 123 Street & Amsterdam Avenue. Address: nan. Hosted By: Department of Sanitation. Open Months: Year Round. Operation Day Hours: 24/7\\nDistrict: Manhattan. Neighborhood: Lower East Side. Drop-off Site: Grand Street & Clinton Street. Address: Grand Street & Clinton Street. Hosted By: NYC Compost Project Hosted by LES Ecology Center. Open Months: Year Round. Operation Day Hours: Mondays (Start Time: 9:00 AM - End Time:  2:00 PM)\\nDistrict: Manhattan. Neighborhood: East Midtown-Turtle Bay. Drop-off Site: Dag Hammarskjold Plaza Greenmarket. Address: E 47th St & 2nd Ave. Hosted By: GrowNYC. Open Months: Year Round. Operation Day Hours: Wednesdays (Start Time: 8:00 AM - End Time:  12:30 PM)\\nDistrict: Manhattan. Neighborhood: Upper West Side (Central). Drop-off Site: 79th St. Greenmarket. Address: 77th Street between Columbus Ave and Central Park West. Hosted By: GrowNYC. Open Months: Year Round. Operation Day Hours: Sundays (Start Time: 9:00 AM - End Time:  3:00 PM)\\nDistrict: Manhattan. Neighborhood: Morningside Heights. Drop-off Site: SW Corner of W 114 Street & Amsterdam Avenue. Address: nan. Hosted By: Department of Sanitation. Open Months: Year Round. Operation Day Hours: 24/7\\nDistrict: Manhattan. Neighborhood: SoHo-Little Italy-Hudson Square. Drop-off Site: 6th Ave & Spring St. Address: 6th Avenue & Spring Street -NE Corner. Hosted By: NYC Compost Project Hosted by LES Ecology Center. Open Months: Year Round. Operation Day Hours: Wednesdays (Start Time: 9:00 AM - End Time:  2:00 PM)\\nDistrict: Manhattan. Neighborhood: Midtown South-Flatiron-Union Square. Drop-off Site: Union Square Greenmarket. Address: E 17th St & Union Square E, New York, NY. Hosted By: NYC Compost Project Hosted by LES Ecology Center. Open Months: Year Round. Operation Day Hours: Mondays, Wednesdays, Fridays, and Saturdays (Start Time: 8:00 AM - End Time:  5:00 PM)\\nDistrict: Queens. Neighborhood: Jackson Heights. Drop-off Site: Fordham Plaza Food Scrap Drop-off. Address: E Fordham Rd between Webster Ave & Third Ave. Hosted By: GrowNYC. Open Months: Year Round. Operation Day Hours: Fridays (Start Time: 8:00 AM - End Time:  11:30 AM)\\nDistrict: Manhattan. Neighborhood: Morningside Heights. Drop-off Site: Columbia Sunday Greenmarket. Address: Broadway between 114th St. and 115th St.. Hosted By: GrowNYC. Open Months: Year Round. Operation Day Hours: Sundays (Start Time: 8:00 AM - End Time:  12:00 PM)\""
      ]
     },
     "execution_count": 29,
     "metadata": {},
     "output_type": "execute_result"
    }
   ],
   "source": [
    "build_custom_context(questions[1], df, max_tokens=MAX_TOKENS)"
   ]
  },
  {
   "cell_type": "code",
   "execution_count": 30,
   "id": "24cfabd3",
   "metadata": {},
   "outputs": [],
   "source": [
    "# Function to build a custom prompt\n",
    "def build_custom_prompt(question, df, max_tokens=MAX_TOKENS):\n",
    "    context = build_custom_context(question, df, max_tokens)\n",
    "    return f\"Using the following data, answer the question:\\n{context}\\n\\nQuestion: {question}\""
   ]
  },
  {
   "cell_type": "markdown",
   "id": "1783f146",
   "metadata": {},
   "source": [
    "## Custom Performance Demonstration\n",
    "\n",
    "TODO: In the cells below, demonstrate the performance of your custom query using at least 2 questions. For each question, show the answer from a basic `Completion` model query as well as the answer from your custom query."
   ]
  },
  {
   "cell_type": "code",
   "execution_count": 31,
   "id": "f48a9409",
   "metadata": {},
   "outputs": [],
   "source": [
    "# Function to handle a question and return both simple and custom responses\n",
    "def handle_question(question, df):\n",
    "    simple_prompt = build_simple_prompt(question)\n",
    "    custom_prompt = build_custom_prompt(question, df)\n",
    "    \n",
    "    simple_answer = get_response(simple_prompt)\n",
    "    custom_answer = get_response(custom_prompt)\n",
    "    \n",
    "    print(f\"Question: {question}\\n\")\n",
    "    print(f\"Simple Model Answer:\\n{simple_answer}\\n\")\n",
    "    print(f\"Custom Model Answer:\\n{custom_answer}\\n\")"
   ]
  },
  {
   "cell_type": "markdown",
   "id": "4f11fdc0",
   "metadata": {},
   "source": [
    "### Question 1"
   ]
  },
  {
   "cell_type": "code",
   "execution_count": 32,
   "id": "4901c850",
   "metadata": {},
   "outputs": [
    {
     "name": "stdout",
     "output_type": "stream",
     "text": [
      "Question: Where can I drop off food scraps in Queens, Astoria on Monday?\n",
      "\n",
      "Simple Model Answer:\n",
      "You can drop off food scraps in Queens, Astoria on Monday at the Socrates Sculpture Park Food Scrap Drop-Off site.\n",
      "\n",
      "Custom Model Answer:\n",
      "You can drop off food scraps in Queens, Astoria at the following locations on Monday:\n",
      "\n",
      "1. N/W corner of 31 ave and 35 st.\n",
      "2. N/W Corner of 31 Ave and 29 St.\n",
      "3. N/W Corner of 31 Ave and 37 St.\n",
      "4. 32 St between 31 Ave and 30 Ave.\n",
      "\n",
      "These drop-off sites are open 24/7, so you can visit them anytime on Monday to drop off your food scraps.\n",
      "\n"
     ]
    }
   ],
   "source": [
    "handle_question(questions[0], df)"
   ]
  },
  {
   "cell_type": "code",
   "execution_count": 34,
   "id": "bd7a093b",
   "metadata": {},
   "outputs": [
    {
     "data": {
      "image/png": "[encoded data removed]",
      "text/plain": [
       "<IPython.core.display.Image object>"
      ]
     },
     "execution_count": 34,
     "metadata": {},
     "output_type": "execute_result"
    }
   ],
   "source": [
    "from IPython.display import Image\n",
    "Image(filename=\"data/queens.png\")"
   ]
  },
  {
   "cell_type": "markdown",
   "id": "6e86e37c",
   "metadata": {},
   "source": [
    "### Question 2"
   ]
  },
  {
   "cell_type": "code",
   "execution_count": 33,
   "id": "6f646989",
   "metadata": {},
   "outputs": [
    {
     "name": "stdout",
     "output_type": "stream",
     "text": [
      "Question: What are the hours of operation for food scrap drop-off location at Maggie's Magic Garden in Manhattan?\n",
      "\n",
      "Simple Model Answer:\n",
      "The food scrap drop-off site at Maggie's Magic Garden in Manhattan is open 24/7.\n",
      "\n",
      "Custom Model Answer:\n",
      "The hours of operation for the food scrap drop-off location at Maggie's Magic Garden in Manhattan are every day from Dawn to Dusk.\n",
      "\n"
     ]
    }
   ],
   "source": [
    "handle_question(questions[1], df)"
   ]
  },
  {
   "cell_type": "code",
   "execution_count": 35,
   "id": "11c07a54",
   "metadata": {},
   "outputs": [
    {
     "data": {
      "image/png": "[encoded data removed]",
      "text/plain": [
       "<IPython.core.display.Image object>"
      ]
     },
     "execution_count": 35,
     "metadata": {},
     "output_type": "execute_result"
    }
   ],
   "source": [
    "from IPython.display import Image\n",
    "Image(filename=\"data/manhattan.png\")"
   ]
  }
 ],
 "metadata": {
  "kernelspec": {
   "display_name": "Python 3",
   "language": "python",
   "name": "python3"
  },
  "language_info": {
   "codemirror_mode": {
    "name": "ipython",
    "version": 3
   },
   "file_extension": ".py",
   "mimetype": "text/x-python",
   "name": "python",
   "nbconvert_exporter": "python",
   "pygments_lexer": "ipython3",
   "version": "3.12.8"
  }
 },
 "nbformat": 4,
 "nbformat_minor": 5
}
